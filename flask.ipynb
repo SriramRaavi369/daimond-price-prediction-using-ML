{
 "cells": [
  {
   "cell_type": "code",
   "execution_count": 8,
   "metadata": {},
   "outputs": [
    {
     "name": "stdout",
     "output_type": "stream",
     "text": [
      " * Serving Flask app '__main__'\n",
      " * Debug mode: on\n"
     ]
    },
    {
     "name": "stderr",
     "output_type": "stream",
     "text": [
      "WARNING: This is a development server. Do not use it in a production deployment. Use a production WSGI server instead.\n",
      " * Running on http://127.0.0.1:5000\n",
      "Press CTRL+C to quit\n",
      "127.0.0.1 - - [16/Jun/2023 20:12:06] \"GET / HTTP/1.1\" 200 -\n",
      "127.0.0.1 - - [16/Jun/2023 20:12:06] \"GET /favicon.ico HTTP/1.1\" 404 -\n",
      "127.0.0.1 - - [16/Jun/2023 20:13:19] \"POST /predict HTTP/1.1\" 200 -\n"
     ]
    }
   ],
   "source": [
    "from flask import Flask, render_template, request\n",
    "import pickle\n",
    "import pandas as pd\n",
    "\n",
    "app = Flask(__name__)\n",
    "\n",
    "# Load the trained model from the pickle file\n",
    "with open('model.pkl', 'rb') as file:\n",
    "    model = pickle.load(file)\n",
    "\n",
    "@app.route('/')\n",
    "def index():\n",
    "    return render_template('index.html')\n",
    "\n",
    "@app.route('/predict', methods=['POST'])\n",
    "def predict():\n",
    "    carat = float(request.form['carat'])\n",
    "    cut = int(request.form['cut'])\n",
    "    color = int(request.form['color'])\n",
    "    clarity = int(request.form['clarity'])\n",
    "    depth = float(request.form['depth'])\n",
    "    table = float(request.form['table'])\n",
    "    x = float(request.form['x'])\n",
    "    y = float(request.form['y'])\n",
    "    z = float(request.form['z'])\n",
    "    \n",
    "    # Create a DataFrame with the input features\n",
    "    data = pd.DataFrame({\n",
    "        'carat': [carat],\n",
    "        'cut': [cut],\n",
    "        'color': [color],\n",
    "        'clarity': [clarity],\n",
    "        'depth': [depth],\n",
    "        'table': [table],\n",
    "        'x': [x],\n",
    "        'y': [y],\n",
    "        'z': [z]\n",
    "    })\n",
    "    \n",
    "    # Preprocess the input features as necessary\n",
    "    \n",
    "    # Make a prediction\n",
    "    price = model.predict(data)[0]\n",
    "    \n",
    "    return render_template('result.html', price=price)\n",
    "\n",
    "if __name__ == '__main__':\n",
    "    app.run(debug=True,use_reloader=False)\n"
   ]
  },
  {
   "cell_type": "code",
   "execution_count": null,
   "metadata": {},
   "outputs": [],
   "source": []
  }
 ],
 "metadata": {
  "kernelspec": {
   "display_name": "Python 3",
   "language": "python",
   "name": "python3"
  },
  "language_info": {
   "codemirror_mode": {
    "name": "ipython",
    "version": 3
   },
   "file_extension": ".py",
   "mimetype": "text/x-python",
   "name": "python",
   "nbconvert_exporter": "python",
   "pygments_lexer": "ipython3",
   "version": "3.10.4"
  },
  "orig_nbformat": 4
 },
 "nbformat": 4,
 "nbformat_minor": 2
}
